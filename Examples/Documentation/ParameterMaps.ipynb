{
 "cells": [
  {
   "cell_type": "code",
   "execution_count": 1,
   "metadata": {},
   "outputs": [],
   "source": [
    "import SimpleITK as sitk\n",
    "import os"
   ]
  },
  {
   "cell_type": "markdown",
   "metadata": {},
   "source": [
    "# Parameter Maps\n",
    "\n",
    "In the previous section we saw how to configure an entire multi-resolution registration process with a single parameter. Here, we will examine how SimpleElastix configures registration components internally. Knowing the internal mechanisms is not strictly necessary to register simple anatomical structures, but it will help you solve complex problems that require problem-specific tuning.\n",
    "\n",
    "Elastix introduces the concept of a parameter map to configure the registration procedure. A parameter map is a collection of key-value pairs that atomically defines the components of the registration and any settings they might require. Only input images and output options need to be specified seperately. Elastix will read a given parameter map and load the specified components at runtime.\n",
    "\n",
    "The original elastix and transformix command line programs read text files from disk in which parameters are specified according to the following format:\n",
    "\n",
    "```\n",
    "(ParameterName ParameterValue)\n",
    "```\n",
    "\n",
    "The parameter may be either single- or vector-valued. If the value is of type string then the value will be quoted:\n",
    "\n",
    "```\n",
    "(ParameterName \"value1\" ... \"valueN\")\n",
    "```\n",
    "\n",
    "If the value is of numerical type it will be unquoted:\n",
    "\n",
    "```\n",
    "(ParameterName 123)\n",
    "```\n",
    "\n",
    "SimpleElastix can read these types of files as well but further introduces native data objects for parameter files in all target languages. This means that instead of editing text files you can programmatically configure registration components. For example, we could initialize a parameter object and start populating it with values:"
   ]
  },
  {
   "cell_type": "code",
   "execution_count": 2,
   "metadata": {},
   "outputs": [],
   "source": [
    "p = sitk.ParameterMap()\n",
    "p['Registration'] = ['MultiResolutionRegistration']\n",
    "p['Transform'] = ['TranslationTransform']"
   ]
  },
  {
   "cell_type": "markdown",
   "metadata": {},
   "source": [
    "...and so on. `ElastixImageFilter` has default settings that allows us to get started right away."
   ]
  },
  {
   "cell_type": "markdown",
   "metadata": {},
   "source": [
    "# The Default Parameter Maps\n",
    "\n",
    "In the Hello World example we obtained a registered image by running"
   ]
  },
  {
   "cell_type": "code",
   "execution_count": 3,
   "metadata": {},
   "outputs": [],
   "source": [
    "dataPath = os.path.join(os.sep, \"Users\", \"tannersorensen\", \"SimpleElastix-fork\", \\\n",
    "                        \"SimpleElastix-build\", \"SimpleITK-build\", \"ExternalData\", \\\n",
    "                        \"Testing\", \"Data\", \"Input\")\n",
    "\n",
    "fixedFilename = \"BrainProtonDensitySliceBorder20.png\"\n",
    "fixedImage = sitk.ReadImage(os.path.join(dataPath, fixedFilename), sitk.sitkUInt8)\n",
    "\n",
    "movingFilename = \"BrainProtonDensitySliceShifted13x17y.png\"\n",
    "movingImage = sitk.ReadImage(os.path.join(dataPath, movingFilename), sitk.sitkUInt8)\n",
    "\n",
    "resultImage = sitk.Elastix(fixedImage, movingImage, \"translation\")"
   ]
  },
  {
   "cell_type": "markdown",
   "metadata": {},
   "source": [
    "Internally, ElastixImageFilter uses a pre-configured parameter map to register images. The parameter map is obtained by an internal call to sitk.GetDefaultParameterFile('translation'). This function provides parameter maps for rigid, affine, non-rigid and groupwise registration methods (in order of increasing complexity).\n",
    "\n",
    "---\n",
    "\n",
    "#### Tip\n",
    "\n",
    "ElastixImageFilter will register our images with a translation -> affine -> b-spline multi-resolution approach by default. We simply leave out the call to SetParameterMap to achieve this functionality."
   ]
  },
  {
   "cell_type": "code",
   "execution_count": 4,
   "metadata": {},
   "outputs": [],
   "source": [
    "import SimpleITK as sitk\n",
    "\n",
    "# Functional interface\n",
    "resultImage = sitk.Elastix(fixedImage, movingImage)\n",
    "\n",
    "# Object oritented interface\n",
    "elastixImageFilter = sitk.ElastixImageFilter()\n",
    "elastixImageFilter.SetFixedImage(fixedImage)\n",
    "elastixImageFilter.SetMovingImage(movingImage)\n",
    "resultImage = elastixImageFilter.Execute()"
   ]
  },
  {
   "cell_type": "markdown",
   "metadata": {},
   "source": [
    "---\n",
    "\n",
    "We can also retrieve the parameter map ourselves and reconfigure it before passing it back to ElastixImageFilter, allowing us to quickly optimize a registration method for a particular problem:"
   ]
  },
  {
   "cell_type": "code",
   "execution_count": 6,
   "metadata": {},
   "outputs": [],
   "source": [
    "parameterMap = sitk.GetDefaultParameterMap('translation')\n",
    "\n",
    "# Use a non-rigid transform instead of a translation transform\n",
    "parameterMap['Transform'] = ['BSplineTransform']\n",
    "\n",
    "# Because of the increased complexity of the b-spline transform,\n",
    "# it is a good idea to run the registration a little longer to\n",
    "# ensure convergence\n",
    "parameterMap['MaximumNumberOfIterations'] = ['512']\n",
    "\n",
    "resultImage = sitk.Elastix(fixedImage, movingImage, parameterMap)"
   ]
  },
  {
   "cell_type": "markdown",
   "metadata": {},
   "source": [
    "---\n",
    "\n",
    "#### Tip\n",
    "\n",
    "We can print parameter maps to console like this:"
   ]
  },
  {
   "cell_type": "code",
   "execution_count": 7,
   "metadata": {},
   "outputs": [
    {
     "data": {
      "text/plain": [
       "<SimpleITK.SimpleITK.ElastixImageFilter; proxy of <Swig Object of type 'itk::simple::ElastixImageFilter::Self *' at 0x1088b5d50> >"
      ]
     },
     "execution_count": 7,
     "metadata": {},
     "output_type": "execute_result"
    }
   ],
   "source": [
    "import SimpleITK as sitk\n",
    "elastixImageFilter = sitk.ElastixImageFilter()\n",
    "elastixImageFilter.PrintParameterMap()"
   ]
  },
  {
   "cell_type": "markdown",
   "metadata": {},
   "source": [
    "---\n",
    "\n",
    "We will study other parameter maps more closely in later examples. For now, we simply print the translation parameter map to console and examine its contents."
   ]
  },
  {
   "cell_type": "code",
   "execution_count": 8,
   "metadata": {},
   "outputs": [],
   "source": [
    "sitk.PrintParameterMap(sitk.GetDefaultParameterMap(\"translation\"))"
   ]
  },
  {
   "cell_type": "markdown",
   "metadata": {},
   "source": [
    "The first thing to note is that the parameter map is enumerated. ElastixImageFilter can take a vector of parameter maps and apply the corresponding registrations sequentially. The resulting transform is called a composite transform since the final transformation is a composition of sequentially applied deformation fields. For example, a non-rigid registration is often initialized with an affine transformation (translation, scale, rotation, shearing) to bring the objects into rough alignment. This makes the registration less suscetible to local minima. We can also ask SimpleElastix to add the individual deformation fields and apply them in one go (but make sure you know what you are doing before opting for this apprach).\n",
    "\n",
    "---\n",
    "\n",
    "#### Tip\n",
    "\n",
    "We can add mulitple parameter maps to SimpleElastix like this:"
   ]
  },
  {
   "cell_type": "code",
   "execution_count": 9,
   "metadata": {},
   "outputs": [
    {
     "data": {
      "text/plain": [
       "<SimpleITK.SimpleITK.ElastixImageFilter; proxy of <Swig Object of type 'itk::simple::ElastixImageFilter::Self *' at 0x1088b5d80> >"
      ]
     },
     "execution_count": 9,
     "metadata": {},
     "output_type": "execute_result"
    }
   ],
   "source": [
    "elastixImageFilter = sitk.ElastixImageFilter()\n",
    "elastixImageFilter.SetParameterMap(sitk.GetDefaultParameterMap('translation'))\n",
    "elastixImageFilter.AddParameterMap(sitk.GetDefaultParameterMap('affine'))"
   ]
  },
  {
   "cell_type": "markdown",
   "metadata": {},
   "source": [
    "Note that the first call is a Set method. This deletes any prevously set parameter maps. Subsequent calls to AddParameterMap appends parameter maps to the internal list of parameter maps\n",
    "\n",
    "---\n",
    "\n",
    "Let’s examine the parameters above in detail."
   ]
  },
  {
   "cell_type": "markdown",
   "metadata": {},
   "source": [
    "# Important Parameters\n",
    "\n",
    "`Registration` is the top-level parameter which in this case has been set to `MultiResolutionRegistration`. A multi-resolution pyramid strategy improves the capture range and robustness of the registration. We will almost always want to use multiple resolutions unless your problem is particularly simple. The basic idea is to first estimate `T(x)` on a low resolution version of the images and then propagate the estimated deformation to higher resolutions. This makes the registration initially focus on larger structures (the skull and brain hemispheres etc), before focusing on high-frequency information (brain subregions etc) which contain more local minima. `FixedImagePyramid`, `FixedImagePyramidSchedule`, `MovingImagePyramid`, `MovingImagePyramidSchedule`, and `NumberOfResolutions` controls the pyramid strategy.\n",
    "\n",
    "The `Transform` parameter is set to `TranslationTransform` which it is optimized with an `AdaptiveStochasticGradientDescent` optimizer (Klein et al. 2009). SimpleElastix will use this optimizer together with the `AdvancedMattesMutualInformation` metric by default since this combination work well for a broad range of problems whether mono-modal or multi-modal.\n",
    "\n",
    "Image intensities are sampled using an `ImageSampler`, `Interpolator` and `ResampleInterpolator`. The sampler is responsible for selecting points in the image to sample. The `RandomCoordinate` simply selects random positions. The interpolator is responsible for interpolating off-grid posititions during optimization. The `LinearInterpolator` used here is very fast and uses very little memory.\n",
    "\n",
    "A `BSplineInterpolator` of order 2 is used to resample the result image from the moving image once the final transformation has been found. This is a one-time step so the additional computational complexity is worth the trade-off for higher image quality.\n",
    "\n",
    "Another important parameter is `AutomaticParameterEstimation` which controls whether the `AdaptiveStochasticGradientDescent` optimizer should estimate its own convergence parameters or allow you to set them. Automatically obtained parameters work well in most cases and facilitates a complete hands-off approach which is highly recommended. Optimizers can be tricky to tune by hand.\n",
    "\n",
    "`DefaultPixelValue` sets value of pixels outside the moving image grid. The rest of the key-value pairs are component specific parameters. There are multiple choices available for each type of component. For example, you can construct an image pyramid with recursive sampling or via Gaussian Smoothing. Each choice has its own pros and cons. Consult the Registration Components secton for a description of all types of available components."
   ]
  }
 ],
 "metadata": {
  "kernelspec": {
   "display_name": "Python 3",
   "language": "python",
   "name": "python3"
  },
  "language_info": {
   "codemirror_mode": {
    "name": "ipython",
    "version": 3
   },
   "file_extension": ".py",
   "mimetype": "text/x-python",
   "name": "python",
   "nbconvert_exporter": "python",
   "pygments_lexer": "ipython3",
   "version": "3.6.5"
  }
 },
 "nbformat": 4,
 "nbformat_minor": 2
}
