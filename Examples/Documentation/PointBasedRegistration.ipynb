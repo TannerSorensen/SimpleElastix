{
 "cells": [
  {
   "cell_type": "code",
   "execution_count": 2,
   "metadata": {},
   "outputs": [],
   "source": [
    "import SimpleITK as sitk\n",
    "import os\n",
    "import matplotlib.pyplot as plt"
   ]
  },
  {
   "cell_type": "code",
   "execution_count": 3,
   "metadata": {},
   "outputs": [],
   "source": [
    "def display_image(img):\n",
    "    plt.imshow(sitk.GetArrayFromImage(img), cmap='gray')\n",
    "    plt.axis(\"off\")\n",
    "\n",
    "def overlay_fixed_moving(fixed, moving):\n",
    "    img1 = sitk.Cast(sitk.RescaleIntensity(fixed), sitk.sitkUInt8)\n",
    "    img2 = sitk.Cast(sitk.RescaleIntensity(moving), sitk.sitkUInt8)\n",
    "    cimg = sitk.Compose(img1, img2, sitk.Cast(img1/2. + img2/2., sitk.sitkUInt8))\n",
    "    plt.imshow(sitk.GetArrayFromImage(cimg))\n",
    "    plt.axis(\"off\")"
   ]
  },
  {
   "cell_type": "markdown",
   "metadata": {},
   "source": [
    "# Point-based Registation\n",
    "\n",
    "Point-based registration allows us to help the registration via pre-defined sets of corresponding points. The `CorrespondingPointsEuclideanDistanceMetric` minimises the distance of between a points on the fixed image and corresponding points on the moving image. The metric can be used to help in a difficult registration task by taking into account positions are known to correspond. Think of it as a way of embedding expert knowledge in the registration procedure. We can manually select points or automatically them via centroids of segmentations for example. Anything is possible.\n",
    "\n",
    "To use `CorrespondingPointsEuclideanDistanceMetric` we append it to the list of metrics in the parameter map."
   ]
  },
  {
   "cell_type": "code",
   "execution_count": 4,
   "metadata": {},
   "outputs": [
    {
     "ename": "AttributeError",
     "evalue": "'tuple' object has no attribute 'append'",
     "output_type": "error",
     "traceback": [
      "\u001b[0;31m---------------------------------------------------------------------------\u001b[0m",
      "\u001b[0;31mAttributeError\u001b[0m                            Traceback (most recent call last)",
      "\u001b[0;32m<ipython-input-4-000b8cdfa169>\u001b[0m in \u001b[0;36m<module>\u001b[0;34m()\u001b[0m\n\u001b[1;32m      1\u001b[0m \u001b[0mparameterMap\u001b[0m \u001b[0;34m=\u001b[0m \u001b[0msitk\u001b[0m\u001b[0;34m.\u001b[0m\u001b[0mGetDefaultParameterMap\u001b[0m\u001b[0;34m(\u001b[0m\u001b[0;34m\"bspline\"\u001b[0m\u001b[0;34m)\u001b[0m\u001b[0;34m\u001b[0m\u001b[0m\n\u001b[0;32m----> 2\u001b[0;31m \u001b[0mparameterMap\u001b[0m\u001b[0;34m[\u001b[0m\u001b[0;34m\"Metric\"\u001b[0m\u001b[0;34m]\u001b[0m\u001b[0;34m.\u001b[0m\u001b[0mappend\u001b[0m\u001b[0;34m(\u001b[0m\u001b[0;34m\"CorrespondingPointsEuclideanDistanceMetric\"\u001b[0m\u001b[0;34m)\u001b[0m\u001b[0;34m\u001b[0m\u001b[0m\n\u001b[0m",
      "\u001b[0;31mAttributeError\u001b[0m: 'tuple' object has no attribute 'append'"
     ]
    }
   ],
   "source": [
    "parameterMap = sitk.GetDefaultParameterMap(\"bspline\")\n",
    "parameterMap[\"Metric\"].append(\"CorrespondingPointsEuclideanDistanceMetric\")"
   ]
  },
  {
   "cell_type": "markdown",
   "metadata": {},
   "source": [
    "---\n",
    "\n",
    "#### Note\n",
    "\n",
    "The `CorrespondingPointsEuclideanDistanceMetric` metric must be specified as the last metric due to technical constraints in elastix.\n",
    "\n",
    "---\n",
    "\n",
    "The metric can also be added to all metrics in the ElastixImageFilter object with a single call."
   ]
  },
  {
   "cell_type": "code",
   "execution_count": 6,
   "metadata": {},
   "outputs": [
    {
     "data": {
      "text/plain": [
       "<SimpleITK.SimpleITK.ElastixImageFilter; proxy of <Swig Object of type 'itk::simple::ElastixImageFilter::Self *' at 0x1203553f0> >"
      ]
     },
     "execution_count": 6,
     "metadata": {},
     "output_type": "execute_result"
    }
   ],
   "source": [
    "elastixImageFilter = sitk.ElastixImageFilter()\n",
    "elastixImageFilter.AddParameter( \"Metric\", \"CorrespondingPointsEuclideanDistanceMetric\" )"
   ]
  },
  {
   "cell_type": "markdown",
   "metadata": {},
   "source": [
    "Or to a single parameter map (here we assume that SimpleElastix contains at least two parameter maps)"
   ]
  },
  {
   "cell_type": "code",
   "execution_count": 7,
   "metadata": {},
   "outputs": [
    {
     "data": {
      "text/plain": [
       "<SimpleITK.SimpleITK.ElastixImageFilter; proxy of <Swig Object of type 'itk::simple::ElastixImageFilter::Self *' at 0x1203557e0> >"
      ]
     },
     "execution_count": 7,
     "metadata": {},
     "output_type": "execute_result"
    }
   ],
   "source": [
    "elastixImageFilter.AddParameter( 1, \"Metric\", \"CorrespondingPointsEuclideanDistanceMetric\" )"
   ]
  },
  {
   "cell_type": "markdown",
   "metadata": {},
   "source": [
    "#TODO: fix URL\n",
    "\n",
    "The point set are specified as text files. They can either be in [VTK pointdata legacy format](http://dunne.uni-hd.de/VisuSimple/documents/vtkfileformat.html#pointdata) or elastix’ own format that usually has the `pts` extension.\n",
    "\n",
    "```\n",
    "<index, point>\n",
    "<number of points>\n",
    "point1 x point1 y [point1 z]\n",
    "point2 x point2 y [point2 z]\n",
    "```\n",
    "\n",
    "`index` is used when points are specified in pixel coordinates. `point` is used when the points are specified in world coordinates. For example, this is a valid point file:\n",
    "\n",
    "```\n",
    "point\n",
    "3\n",
    "102.8 -33.4 57.0\n",
    "178.1 -10.9 14.5\n",
    "180.4 -18.1 78.9\n",
    "```\n",
    "\n",
    "---\n",
    "\n",
    "#### Warning\n",
    "\n",
    "The input points are specified in the fixed image domain (!) and warped from the fixed image to moving image since the transformation direction is from fixed to moving image. If we want to warp points from the moving image to fixed image, we need the inverse transform. This can be computed manually (see section 6.1.6 in the [elastix manual](http://elastix.isi.uu.nl/download/elastix_manual_v4.8.pdf)) or via `elastixImageFilter.ExecuteInverse()`.\n",
    "\n",
    "---"
   ]
  }
 ],
 "metadata": {
  "kernelspec": {
   "display_name": "Python 3",
   "language": "python",
   "name": "python3"
  },
  "language_info": {
   "codemirror_mode": {
    "name": "ipython",
    "version": 3
   },
   "file_extension": ".py",
   "mimetype": "text/x-python",
   "name": "python",
   "nbconvert_exporter": "python",
   "pygments_lexer": "ipython3",
   "version": "3.6.5"
  }
 },
 "nbformat": 4,
 "nbformat_minor": 2
}
